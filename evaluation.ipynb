{
 "cells": [
  {
   "cell_type": "code",
   "execution_count": 4,
   "metadata": {},
   "outputs": [],
   "source": [
    "import pandas as pd\n",
    "import ast\n",
    "import matplotlib.pyplot as plt\n",
    "import plotly.express as px\n",
    "import plotly.graph_objects as go\n",
    "import operator"
   ]
  },
  {
   "cell_type": "code",
   "execution_count": 5,
   "metadata": {},
   "outputs": [],
   "source": [
    "# Metrics Functions\n",
    "def accuracy(list1, list2):\n",
    "    intersection = len(list(set(list1).intersection(list2)))\n",
    "    union = (len(list1) + len(list2)) - intersection\n",
    "    return float(intersection)/union\n",
    "\n",
    "def precision(list1, list2):\n",
    "    intersection = len(list(set(list1).intersection(list2)))\n",
    "    return float(intersection)/len(list1)\n",
    "\n",
    "def recall(list1, list2):\n",
    "    intersection = len(list(set(list1).intersection(list2)))\n",
    "    return float(intersection)/len(list2)\n",
    "\n",
    "def f1(list1, list2):\n",
    "    intersection = len(list(set(list1).intersection(list2)))\n",
    "    precision_score = precision(list1, list2)\n",
    "    recall_score = recall(list1, list2)\n",
    "    try:\n",
    "        f1_score = float(2*precision_score*recall_score)/(precision_score+recall_score)\n",
    "    except:\n",
    "        f1_score = 0\n",
    "    return f1_score"
   ]
  },
  {
   "cell_type": "code",
   "execution_count": 6,
   "metadata": {},
   "outputs": [],
   "source": [
    "def calculate_metrics(df: pd.DataFrame):\n",
    "    all_accuracies = []\n",
    "    all_precision = []\n",
    "    all_recall = []\n",
    "    all_f1 = []\n",
    "\n",
    "    for index, row in df.iterrows():\n",
    "        true_labels = ast.literal_eval(row[\"True Labels\"])\n",
    "        pred_labels = ast.literal_eval(row[\"Predicted Labels\"])\n",
    "\n",
    "        accuracy_score = accuracy(pred_labels, true_labels)\n",
    "        precision_score = precision(pred_labels, true_labels)\n",
    "        recall_score = recall(pred_labels, true_labels)\n",
    "        f1_score = f1(pred_labels, true_labels)\n",
    "\n",
    "        all_accuracies.append(accuracy_score)\n",
    "        all_precision.append(precision_score)\n",
    "        all_recall.append(recall_score)\n",
    "        all_f1.append(f1_score)\n",
    "\n",
    "\n",
    "    avg_acc = sum(all_accuracies)/len(all_accuracies)\n",
    "    avg_prec = sum(all_precision)/len(all_precision)\n",
    "    avg_rec = sum(all_recall)/len(all_recall)\n",
    "    avg_f1 = sum(all_f1)/len(all_f1)\n",
    "\n",
    "    print(\"Average Accuracy on Test Data:\", round(avg_acc*100,2), \"%\")\n",
    "    print(\"Average Precision on Test Data:\", round(avg_prec*100,2), \"%\")\n",
    "    print(\"Average Recall on Test Data:\", round(avg_rec*100,2), \"%\")\n",
    "    print(\"Average F1-Score on Test Data:\", round(avg_f1*100,2), \"%\")"
   ]
  },
  {
   "cell_type": "code",
   "execution_count": 7,
   "metadata": {},
   "outputs": [],
   "source": [
    "labels = [\n",
    "    \"problem identification and resolution\",\n",
    "    \"work processes\",\n",
    "    \"questioning attitude\",\n",
    "    \"continuous learning\",\n",
    "    \"personal accountability\",\n",
    "    \"respectful work environment\",\n",
    "    \"decision making\",\n",
    "    \"leadership safety values and actions\",\n",
    "    \"effective safety communication\",\n",
    "    \"environment for raising concerns\"\n",
    "]\n",
    "\n",
    "def getTraitCounts(df: pd.DataFrame):\n",
    "    traitCountsTrue = {}\n",
    "    traitCountsPredicted = {}\n",
    "    for label in labels:\n",
    "        traitCountsTrue[label] = 0\n",
    "        traitCountsPredicted[label] = 0\n",
    "    for index, row in df.iterrows():\n",
    "        true_labels = ast.literal_eval(row[\"True Labels\"])\n",
    "        pred_labels = ast.literal_eval(row[\"Predicted Labels\"])\n",
    "        for trueLabel in true_labels:\n",
    "            traitCountsTrue[trueLabel] = traitCountsTrue.get(trueLabel, 0) + 1\n",
    "        for predLabel in pred_labels:\n",
    "            traitCountsPredicted[predLabel] = traitCountsPredicted.get(predLabel, 0) + 1\n",
    "\n",
    "    trueLabelsToPlot = list(traitCountsTrue.keys())\n",
    "    trueCountsToPlot = list(traitCountsTrue.values())\n",
    "\n",
    "    predictedLabelsToPlot = list(traitCountsPredicted.keys())\n",
    "    predictedCountsToPlot = list(traitCountsPredicted.values())\n",
    "\n",
    "    predictedMinusTrueCount = map(operator.sub, predictedCountsToPlot, trueCountsToPlot)\n",
    "\n",
    "    summaryCountDf = pd.DataFrame(data={\n",
    "        \"Labels\": trueLabelsToPlot,\n",
    "        \"True Counts\": trueCountsToPlot,\n",
    "        \"Predicted Counts\": predictedCountsToPlot,\n",
    "        \"Difference Between Predicted & True\":  predictedMinusTrueCount\n",
    "    })\n",
    "    print(summaryCountDf.to_string(index=False))\n",
    "    \n",
    "    fig = go.Figure(data=[go.Bar(\n",
    "        name = 'True Label Counts',\n",
    "        x = trueCountsToPlot,\n",
    "        y = trueLabelsToPlot,\n",
    "        orientation=\"h\"\n",
    "    ),\n",
    "        go.Bar(\n",
    "        name = 'Predicted Label Counts',\n",
    "        x = predictedCountsToPlot,\n",
    "        y = predictedLabelsToPlot,\n",
    "        orientation=\"h\"\n",
    "    )\n",
    "    ])\n",
    "\n",
    "    # Commented below line but sorts x axis if wanting to dispaly like that, looks cluttered if you do though\n",
    "    # fig.update_layout(yaxis=dict(autorange=\"reversed\"))\n",
    "    fig.update_layout(title_text=\"True/Predicted Label Counts\")\n",
    "    fig.show()"
   ]
  },
  {
   "cell_type": "code",
   "execution_count": 26,
   "metadata": {},
   "outputs": [],
   "source": [
    "df = pd.read_csv(\"FewShot_Keywords_FewExamples.csv\")"
   ]
  },
  {
   "cell_type": "code",
   "execution_count": 27,
   "metadata": {},
   "outputs": [
    {
     "data": {
      "text/html": [
       "<div>\n",
       "<style scoped>\n",
       "    .dataframe tbody tr th:only-of-type {\n",
       "        vertical-align: middle;\n",
       "    }\n",
       "\n",
       "    .dataframe tbody tr th {\n",
       "        vertical-align: top;\n",
       "    }\n",
       "\n",
       "    .dataframe thead th {\n",
       "        text-align: right;\n",
       "    }\n",
       "</style>\n",
       "<table border=\"1\" class=\"dataframe\">\n",
       "  <thead>\n",
       "    <tr style=\"text-align: right;\">\n",
       "      <th></th>\n",
       "      <th>Power Plant</th>\n",
       "      <th>Sentence/Paragraph</th>\n",
       "      <th>Predicted Labels</th>\n",
       "      <th>True Labels</th>\n",
       "    </tr>\n",
       "  </thead>\n",
       "  <tbody>\n",
       "    <tr>\n",
       "      <th>0</th>\n",
       "      <td>Davis-Besse</td>\n",
       "      <td>The cause of the cracks appears to be high cyc...</td>\n",
       "      <td>['problem identification and resolution', 'wor...</td>\n",
       "      <td>['problem identification and resolution', 'que...</td>\n",
       "    </tr>\n",
       "    <tr>\n",
       "      <th>1</th>\n",
       "      <td>Davis-Besse</td>\n",
       "      <td>These conditions, apparently caused by design ...</td>\n",
       "      <td>['problem identification and resolution', 'que...</td>\n",
       "      <td>['questioning attitude', 'work processes']</td>\n",
       "    </tr>\n",
       "    <tr>\n",
       "      <th>2</th>\n",
       "      <td>Davis-Besse</td>\n",
       "      <td>The apparent cause of the HPI pump debris tole...</td>\n",
       "      <td>['problem identification and resolution', 'wor...</td>\n",
       "      <td>['continuous learning', 'questioning attitude'...</td>\n",
       "    </tr>\n",
       "    <tr>\n",
       "      <th>3</th>\n",
       "      <td>Davis-Besse</td>\n",
       "      <td>The previous procedures used to calibrate the ...</td>\n",
       "      <td>['problem identification and resolution', 'wor...</td>\n",
       "      <td>['work processes']</td>\n",
       "    </tr>\n",
       "    <tr>\n",
       "      <th>4</th>\n",
       "      <td>Davis-Besse</td>\n",
       "      <td>Therefore, the cause of the loss of taper pins...</td>\n",
       "      <td>['personal accountability', 'problem identific...</td>\n",
       "      <td>['personal accountability', 'work processes']</td>\n",
       "    </tr>\n",
       "    <tr>\n",
       "      <th>...</th>\n",
       "      <td>...</td>\n",
       "      <td>...</td>\n",
       "      <td>...</td>\n",
       "      <td>...</td>\n",
       "    </tr>\n",
       "    <tr>\n",
       "      <th>80</th>\n",
       "      <td>South Texas</td>\n",
       "      <td>The linkage mechanism that operates the breake...</td>\n",
       "      <td>['problem identification and resolution', 'wor...</td>\n",
       "      <td>['personal accountability', 'problem identific...</td>\n",
       "    </tr>\n",
       "    <tr>\n",
       "      <th>81</th>\n",
       "      <td>South Texas</td>\n",
       "      <td>The majority of the defective tubes detected i...</td>\n",
       "      <td>['problem identification and resolution', 'que...</td>\n",
       "      <td>['decision making', 'problem identification an...</td>\n",
       "    </tr>\n",
       "    <tr>\n",
       "      <th>82</th>\n",
       "      <td>South Texas</td>\n",
       "      <td>1. Personnel did not recognize the laptop comp...</td>\n",
       "      <td>['problem identification and resolution', 'wor...</td>\n",
       "      <td>['personal accountability', 'work processes']</td>\n",
       "    </tr>\n",
       "    <tr>\n",
       "      <th>83</th>\n",
       "      <td>South Texas</td>\n",
       "      <td>The root cause of this incident was a lack of ...</td>\n",
       "      <td>['continuous learning', 'problem identificatio...</td>\n",
       "      <td>['continuous learning', 'problem identificatio...</td>\n",
       "    </tr>\n",
       "    <tr>\n",
       "      <th>84</th>\n",
       "      <td>South Texas</td>\n",
       "      <td>The cause of the unexpected closure of 2C FWIV...</td>\n",
       "      <td>['problem identification and resolution', 'que...</td>\n",
       "      <td>['problem identification and resolution', 'wor...</td>\n",
       "    </tr>\n",
       "  </tbody>\n",
       "</table>\n",
       "<p>85 rows × 4 columns</p>\n",
       "</div>"
      ],
      "text/plain": [
       "    Power Plant                                 Sentence/Paragraph  \\\n",
       "0   Davis-Besse  The cause of the cracks appears to be high cyc...   \n",
       "1   Davis-Besse  These conditions, apparently caused by design ...   \n",
       "2   Davis-Besse  The apparent cause of the HPI pump debris tole...   \n",
       "3   Davis-Besse  The previous procedures used to calibrate the ...   \n",
       "4   Davis-Besse  Therefore, the cause of the loss of taper pins...   \n",
       "..          ...                                                ...   \n",
       "80  South Texas  The linkage mechanism that operates the breake...   \n",
       "81  South Texas  The majority of the defective tubes detected i...   \n",
       "82  South Texas  1. Personnel did not recognize the laptop comp...   \n",
       "83  South Texas  The root cause of this incident was a lack of ...   \n",
       "84  South Texas  The cause of the unexpected closure of 2C FWIV...   \n",
       "\n",
       "                                     Predicted Labels  \\\n",
       "0   ['problem identification and resolution', 'wor...   \n",
       "1   ['problem identification and resolution', 'que...   \n",
       "2   ['problem identification and resolution', 'wor...   \n",
       "3   ['problem identification and resolution', 'wor...   \n",
       "4   ['personal accountability', 'problem identific...   \n",
       "..                                                ...   \n",
       "80  ['problem identification and resolution', 'wor...   \n",
       "81  ['problem identification and resolution', 'que...   \n",
       "82  ['problem identification and resolution', 'wor...   \n",
       "83  ['continuous learning', 'problem identificatio...   \n",
       "84  ['problem identification and resolution', 'que...   \n",
       "\n",
       "                                          True Labels  \n",
       "0   ['problem identification and resolution', 'que...  \n",
       "1          ['questioning attitude', 'work processes']  \n",
       "2   ['continuous learning', 'questioning attitude'...  \n",
       "3                                  ['work processes']  \n",
       "4       ['personal accountability', 'work processes']  \n",
       "..                                                ...  \n",
       "80  ['personal accountability', 'problem identific...  \n",
       "81  ['decision making', 'problem identification an...  \n",
       "82      ['personal accountability', 'work processes']  \n",
       "83  ['continuous learning', 'problem identificatio...  \n",
       "84  ['problem identification and resolution', 'wor...  \n",
       "\n",
       "[85 rows x 4 columns]"
      ]
     },
     "execution_count": 27,
     "metadata": {},
     "output_type": "execute_result"
    }
   ],
   "source": [
    "df"
   ]
  },
  {
   "cell_type": "code",
   "execution_count": 28,
   "metadata": {},
   "outputs": [
    {
     "name": "stdout",
     "output_type": "stream",
     "text": [
      "                               Labels  True Counts  Predicted Counts  Difference Between Predicted & True\n",
      "problem identification and resolution           35                71                                   36\n",
      "                       work processes           53                70                                   17\n",
      "                 questioning attitude           23                19                                   -4\n",
      "                  continuous learning           16                19                                    3\n",
      "              personal accountability           37                14                                  -23\n",
      "          respectful work environment            1                 0                                   -1\n",
      "                      decision making           16                11                                   -5\n",
      " leadership safety values and actions           12                 8                                   -4\n",
      "       effective safety communication            9                 1                                   -8\n",
      "     environment for raising concerns            4                 0                                   -4\n"
     ]
    },
    {
     "data": {
      "application/vnd.plotly.v1+json": {
       "config": {
        "plotlyServerURL": "https://plot.ly"
       },
       "data": [
        {
         "name": "True Label Counts",
         "orientation": "h",
         "type": "bar",
         "x": [
          35,
          53,
          23,
          16,
          37,
          1,
          16,
          12,
          9,
          4
         ],
         "y": [
          "problem identification and resolution",
          "work processes",
          "questioning attitude",
          "continuous learning",
          "personal accountability",
          "respectful work environment",
          "decision making",
          "leadership safety values and actions",
          "effective safety communication",
          "environment for raising concerns"
         ]
        },
        {
         "name": "Predicted Label Counts",
         "orientation": "h",
         "type": "bar",
         "x": [
          71,
          70,
          19,
          19,
          14,
          0,
          11,
          8,
          1,
          0
         ],
         "y": [
          "problem identification and resolution",
          "work processes",
          "questioning attitude",
          "continuous learning",
          "personal accountability",
          "respectful work environment",
          "decision making",
          "leadership safety values and actions",
          "effective safety communication",
          "environment for raising concerns"
         ]
        }
       ],
       "layout": {
        "template": {
         "data": {
          "bar": [
           {
            "error_x": {
             "color": "#2a3f5f"
            },
            "error_y": {
             "color": "#2a3f5f"
            },
            "marker": {
             "line": {
              "color": "#E5ECF6",
              "width": 0.5
             },
             "pattern": {
              "fillmode": "overlay",
              "size": 10,
              "solidity": 0.2
             }
            },
            "type": "bar"
           }
          ],
          "barpolar": [
           {
            "marker": {
             "line": {
              "color": "#E5ECF6",
              "width": 0.5
             },
             "pattern": {
              "fillmode": "overlay",
              "size": 10,
              "solidity": 0.2
             }
            },
            "type": "barpolar"
           }
          ],
          "carpet": [
           {
            "aaxis": {
             "endlinecolor": "#2a3f5f",
             "gridcolor": "white",
             "linecolor": "white",
             "minorgridcolor": "white",
             "startlinecolor": "#2a3f5f"
            },
            "baxis": {
             "endlinecolor": "#2a3f5f",
             "gridcolor": "white",
             "linecolor": "white",
             "minorgridcolor": "white",
             "startlinecolor": "#2a3f5f"
            },
            "type": "carpet"
           }
          ],
          "choropleth": [
           {
            "colorbar": {
             "outlinewidth": 0,
             "ticks": ""
            },
            "type": "choropleth"
           }
          ],
          "contour": [
           {
            "colorbar": {
             "outlinewidth": 0,
             "ticks": ""
            },
            "colorscale": [
             [
              0,
              "#0d0887"
             ],
             [
              0.1111111111111111,
              "#46039f"
             ],
             [
              0.2222222222222222,
              "#7201a8"
             ],
             [
              0.3333333333333333,
              "#9c179e"
             ],
             [
              0.4444444444444444,
              "#bd3786"
             ],
             [
              0.5555555555555556,
              "#d8576b"
             ],
             [
              0.6666666666666666,
              "#ed7953"
             ],
             [
              0.7777777777777778,
              "#fb9f3a"
             ],
             [
              0.8888888888888888,
              "#fdca26"
             ],
             [
              1,
              "#f0f921"
             ]
            ],
            "type": "contour"
           }
          ],
          "contourcarpet": [
           {
            "colorbar": {
             "outlinewidth": 0,
             "ticks": ""
            },
            "type": "contourcarpet"
           }
          ],
          "heatmap": [
           {
            "colorbar": {
             "outlinewidth": 0,
             "ticks": ""
            },
            "colorscale": [
             [
              0,
              "#0d0887"
             ],
             [
              0.1111111111111111,
              "#46039f"
             ],
             [
              0.2222222222222222,
              "#7201a8"
             ],
             [
              0.3333333333333333,
              "#9c179e"
             ],
             [
              0.4444444444444444,
              "#bd3786"
             ],
             [
              0.5555555555555556,
              "#d8576b"
             ],
             [
              0.6666666666666666,
              "#ed7953"
             ],
             [
              0.7777777777777778,
              "#fb9f3a"
             ],
             [
              0.8888888888888888,
              "#fdca26"
             ],
             [
              1,
              "#f0f921"
             ]
            ],
            "type": "heatmap"
           }
          ],
          "heatmapgl": [
           {
            "colorbar": {
             "outlinewidth": 0,
             "ticks": ""
            },
            "colorscale": [
             [
              0,
              "#0d0887"
             ],
             [
              0.1111111111111111,
              "#46039f"
             ],
             [
              0.2222222222222222,
              "#7201a8"
             ],
             [
              0.3333333333333333,
              "#9c179e"
             ],
             [
              0.4444444444444444,
              "#bd3786"
             ],
             [
              0.5555555555555556,
              "#d8576b"
             ],
             [
              0.6666666666666666,
              "#ed7953"
             ],
             [
              0.7777777777777778,
              "#fb9f3a"
             ],
             [
              0.8888888888888888,
              "#fdca26"
             ],
             [
              1,
              "#f0f921"
             ]
            ],
            "type": "heatmapgl"
           }
          ],
          "histogram": [
           {
            "marker": {
             "pattern": {
              "fillmode": "overlay",
              "size": 10,
              "solidity": 0.2
             }
            },
            "type": "histogram"
           }
          ],
          "histogram2d": [
           {
            "colorbar": {
             "outlinewidth": 0,
             "ticks": ""
            },
            "colorscale": [
             [
              0,
              "#0d0887"
             ],
             [
              0.1111111111111111,
              "#46039f"
             ],
             [
              0.2222222222222222,
              "#7201a8"
             ],
             [
              0.3333333333333333,
              "#9c179e"
             ],
             [
              0.4444444444444444,
              "#bd3786"
             ],
             [
              0.5555555555555556,
              "#d8576b"
             ],
             [
              0.6666666666666666,
              "#ed7953"
             ],
             [
              0.7777777777777778,
              "#fb9f3a"
             ],
             [
              0.8888888888888888,
              "#fdca26"
             ],
             [
              1,
              "#f0f921"
             ]
            ],
            "type": "histogram2d"
           }
          ],
          "histogram2dcontour": [
           {
            "colorbar": {
             "outlinewidth": 0,
             "ticks": ""
            },
            "colorscale": [
             [
              0,
              "#0d0887"
             ],
             [
              0.1111111111111111,
              "#46039f"
             ],
             [
              0.2222222222222222,
              "#7201a8"
             ],
             [
              0.3333333333333333,
              "#9c179e"
             ],
             [
              0.4444444444444444,
              "#bd3786"
             ],
             [
              0.5555555555555556,
              "#d8576b"
             ],
             [
              0.6666666666666666,
              "#ed7953"
             ],
             [
              0.7777777777777778,
              "#fb9f3a"
             ],
             [
              0.8888888888888888,
              "#fdca26"
             ],
             [
              1,
              "#f0f921"
             ]
            ],
            "type": "histogram2dcontour"
           }
          ],
          "mesh3d": [
           {
            "colorbar": {
             "outlinewidth": 0,
             "ticks": ""
            },
            "type": "mesh3d"
           }
          ],
          "parcoords": [
           {
            "line": {
             "colorbar": {
              "outlinewidth": 0,
              "ticks": ""
             }
            },
            "type": "parcoords"
           }
          ],
          "pie": [
           {
            "automargin": true,
            "type": "pie"
           }
          ],
          "scatter": [
           {
            "fillpattern": {
             "fillmode": "overlay",
             "size": 10,
             "solidity": 0.2
            },
            "type": "scatter"
           }
          ],
          "scatter3d": [
           {
            "line": {
             "colorbar": {
              "outlinewidth": 0,
              "ticks": ""
             }
            },
            "marker": {
             "colorbar": {
              "outlinewidth": 0,
              "ticks": ""
             }
            },
            "type": "scatter3d"
           }
          ],
          "scattercarpet": [
           {
            "marker": {
             "colorbar": {
              "outlinewidth": 0,
              "ticks": ""
             }
            },
            "type": "scattercarpet"
           }
          ],
          "scattergeo": [
           {
            "marker": {
             "colorbar": {
              "outlinewidth": 0,
              "ticks": ""
             }
            },
            "type": "scattergeo"
           }
          ],
          "scattergl": [
           {
            "marker": {
             "colorbar": {
              "outlinewidth": 0,
              "ticks": ""
             }
            },
            "type": "scattergl"
           }
          ],
          "scattermapbox": [
           {
            "marker": {
             "colorbar": {
              "outlinewidth": 0,
              "ticks": ""
             }
            },
            "type": "scattermapbox"
           }
          ],
          "scatterpolar": [
           {
            "marker": {
             "colorbar": {
              "outlinewidth": 0,
              "ticks": ""
             }
            },
            "type": "scatterpolar"
           }
          ],
          "scatterpolargl": [
           {
            "marker": {
             "colorbar": {
              "outlinewidth": 0,
              "ticks": ""
             }
            },
            "type": "scatterpolargl"
           }
          ],
          "scatterternary": [
           {
            "marker": {
             "colorbar": {
              "outlinewidth": 0,
              "ticks": ""
             }
            },
            "type": "scatterternary"
           }
          ],
          "surface": [
           {
            "colorbar": {
             "outlinewidth": 0,
             "ticks": ""
            },
            "colorscale": [
             [
              0,
              "#0d0887"
             ],
             [
              0.1111111111111111,
              "#46039f"
             ],
             [
              0.2222222222222222,
              "#7201a8"
             ],
             [
              0.3333333333333333,
              "#9c179e"
             ],
             [
              0.4444444444444444,
              "#bd3786"
             ],
             [
              0.5555555555555556,
              "#d8576b"
             ],
             [
              0.6666666666666666,
              "#ed7953"
             ],
             [
              0.7777777777777778,
              "#fb9f3a"
             ],
             [
              0.8888888888888888,
              "#fdca26"
             ],
             [
              1,
              "#f0f921"
             ]
            ],
            "type": "surface"
           }
          ],
          "table": [
           {
            "cells": {
             "fill": {
              "color": "#EBF0F8"
             },
             "line": {
              "color": "white"
             }
            },
            "header": {
             "fill": {
              "color": "#C8D4E3"
             },
             "line": {
              "color": "white"
             }
            },
            "type": "table"
           }
          ]
         },
         "layout": {
          "annotationdefaults": {
           "arrowcolor": "#2a3f5f",
           "arrowhead": 0,
           "arrowwidth": 1
          },
          "autotypenumbers": "strict",
          "coloraxis": {
           "colorbar": {
            "outlinewidth": 0,
            "ticks": ""
           }
          },
          "colorscale": {
           "diverging": [
            [
             0,
             "#8e0152"
            ],
            [
             0.1,
             "#c51b7d"
            ],
            [
             0.2,
             "#de77ae"
            ],
            [
             0.3,
             "#f1b6da"
            ],
            [
             0.4,
             "#fde0ef"
            ],
            [
             0.5,
             "#f7f7f7"
            ],
            [
             0.6,
             "#e6f5d0"
            ],
            [
             0.7,
             "#b8e186"
            ],
            [
             0.8,
             "#7fbc41"
            ],
            [
             0.9,
             "#4d9221"
            ],
            [
             1,
             "#276419"
            ]
           ],
           "sequential": [
            [
             0,
             "#0d0887"
            ],
            [
             0.1111111111111111,
             "#46039f"
            ],
            [
             0.2222222222222222,
             "#7201a8"
            ],
            [
             0.3333333333333333,
             "#9c179e"
            ],
            [
             0.4444444444444444,
             "#bd3786"
            ],
            [
             0.5555555555555556,
             "#d8576b"
            ],
            [
             0.6666666666666666,
             "#ed7953"
            ],
            [
             0.7777777777777778,
             "#fb9f3a"
            ],
            [
             0.8888888888888888,
             "#fdca26"
            ],
            [
             1,
             "#f0f921"
            ]
           ],
           "sequentialminus": [
            [
             0,
             "#0d0887"
            ],
            [
             0.1111111111111111,
             "#46039f"
            ],
            [
             0.2222222222222222,
             "#7201a8"
            ],
            [
             0.3333333333333333,
             "#9c179e"
            ],
            [
             0.4444444444444444,
             "#bd3786"
            ],
            [
             0.5555555555555556,
             "#d8576b"
            ],
            [
             0.6666666666666666,
             "#ed7953"
            ],
            [
             0.7777777777777778,
             "#fb9f3a"
            ],
            [
             0.8888888888888888,
             "#fdca26"
            ],
            [
             1,
             "#f0f921"
            ]
           ]
          },
          "colorway": [
           "#636efa",
           "#EF553B",
           "#00cc96",
           "#ab63fa",
           "#FFA15A",
           "#19d3f3",
           "#FF6692",
           "#B6E880",
           "#FF97FF",
           "#FECB52"
          ],
          "font": {
           "color": "#2a3f5f"
          },
          "geo": {
           "bgcolor": "white",
           "lakecolor": "white",
           "landcolor": "#E5ECF6",
           "showlakes": true,
           "showland": true,
           "subunitcolor": "white"
          },
          "hoverlabel": {
           "align": "left"
          },
          "hovermode": "closest",
          "mapbox": {
           "style": "light"
          },
          "paper_bgcolor": "white",
          "plot_bgcolor": "#E5ECF6",
          "polar": {
           "angularaxis": {
            "gridcolor": "white",
            "linecolor": "white",
            "ticks": ""
           },
           "bgcolor": "#E5ECF6",
           "radialaxis": {
            "gridcolor": "white",
            "linecolor": "white",
            "ticks": ""
           }
          },
          "scene": {
           "xaxis": {
            "backgroundcolor": "#E5ECF6",
            "gridcolor": "white",
            "gridwidth": 2,
            "linecolor": "white",
            "showbackground": true,
            "ticks": "",
            "zerolinecolor": "white"
           },
           "yaxis": {
            "backgroundcolor": "#E5ECF6",
            "gridcolor": "white",
            "gridwidth": 2,
            "linecolor": "white",
            "showbackground": true,
            "ticks": "",
            "zerolinecolor": "white"
           },
           "zaxis": {
            "backgroundcolor": "#E5ECF6",
            "gridcolor": "white",
            "gridwidth": 2,
            "linecolor": "white",
            "showbackground": true,
            "ticks": "",
            "zerolinecolor": "white"
           }
          },
          "shapedefaults": {
           "line": {
            "color": "#2a3f5f"
           }
          },
          "ternary": {
           "aaxis": {
            "gridcolor": "white",
            "linecolor": "white",
            "ticks": ""
           },
           "baxis": {
            "gridcolor": "white",
            "linecolor": "white",
            "ticks": ""
           },
           "bgcolor": "#E5ECF6",
           "caxis": {
            "gridcolor": "white",
            "linecolor": "white",
            "ticks": ""
           }
          },
          "title": {
           "x": 0.05
          },
          "xaxis": {
           "automargin": true,
           "gridcolor": "white",
           "linecolor": "white",
           "ticks": "",
           "title": {
            "standoff": 15
           },
           "zerolinecolor": "white",
           "zerolinewidth": 2
          },
          "yaxis": {
           "automargin": true,
           "gridcolor": "white",
           "linecolor": "white",
           "ticks": "",
           "title": {
            "standoff": 15
           },
           "zerolinecolor": "white",
           "zerolinewidth": 2
          }
         }
        },
        "title": {
         "text": "True/Predicted Label Counts"
        }
       }
      },
      "text/html": [
       "<div>                            <div id=\"e1661378-30d0-482f-9df1-175a592c4948\" class=\"plotly-graph-div\" style=\"height:525px; width:100%;\"></div>            <script type=\"text/javascript\">                require([\"plotly\"], function(Plotly) {                    window.PLOTLYENV=window.PLOTLYENV || {};                                    if (document.getElementById(\"e1661378-30d0-482f-9df1-175a592c4948\")) {                    Plotly.newPlot(                        \"e1661378-30d0-482f-9df1-175a592c4948\",                        [{\"name\":\"True Label Counts\",\"orientation\":\"h\",\"x\":[35,53,23,16,37,1,16,12,9,4],\"y\":[\"problem identification and resolution\",\"work processes\",\"questioning attitude\",\"continuous learning\",\"personal accountability\",\"respectful work environment\",\"decision making\",\"leadership safety values and actions\",\"effective safety communication\",\"environment for raising concerns\"],\"type\":\"bar\"},{\"name\":\"Predicted Label Counts\",\"orientation\":\"h\",\"x\":[71,70,19,19,14,0,11,8,1,0],\"y\":[\"problem identification and resolution\",\"work processes\",\"questioning attitude\",\"continuous learning\",\"personal accountability\",\"respectful work environment\",\"decision making\",\"leadership safety values and actions\",\"effective safety communication\",\"environment for raising concerns\"],\"type\":\"bar\"}],                        {\"template\":{\"data\":{\"histogram2dcontour\":[{\"type\":\"histogram2dcontour\",\"colorbar\":{\"outlinewidth\":0,\"ticks\":\"\"},\"colorscale\":[[0.0,\"#0d0887\"],[0.1111111111111111,\"#46039f\"],[0.2222222222222222,\"#7201a8\"],[0.3333333333333333,\"#9c179e\"],[0.4444444444444444,\"#bd3786\"],[0.5555555555555556,\"#d8576b\"],[0.6666666666666666,\"#ed7953\"],[0.7777777777777778,\"#fb9f3a\"],[0.8888888888888888,\"#fdca26\"],[1.0,\"#f0f921\"]]}],\"choropleth\":[{\"type\":\"choropleth\",\"colorbar\":{\"outlinewidth\":0,\"ticks\":\"\"}}],\"histogram2d\":[{\"type\":\"histogram2d\",\"colorbar\":{\"outlinewidth\":0,\"ticks\":\"\"},\"colorscale\":[[0.0,\"#0d0887\"],[0.1111111111111111,\"#46039f\"],[0.2222222222222222,\"#7201a8\"],[0.3333333333333333,\"#9c179e\"],[0.4444444444444444,\"#bd3786\"],[0.5555555555555556,\"#d8576b\"],[0.6666666666666666,\"#ed7953\"],[0.7777777777777778,\"#fb9f3a\"],[0.8888888888888888,\"#fdca26\"],[1.0,\"#f0f921\"]]}],\"heatmap\":[{\"type\":\"heatmap\",\"colorbar\":{\"outlinewidth\":0,\"ticks\":\"\"},\"colorscale\":[[0.0,\"#0d0887\"],[0.1111111111111111,\"#46039f\"],[0.2222222222222222,\"#7201a8\"],[0.3333333333333333,\"#9c179e\"],[0.4444444444444444,\"#bd3786\"],[0.5555555555555556,\"#d8576b\"],[0.6666666666666666,\"#ed7953\"],[0.7777777777777778,\"#fb9f3a\"],[0.8888888888888888,\"#fdca26\"],[1.0,\"#f0f921\"]]}],\"heatmapgl\":[{\"type\":\"heatmapgl\",\"colorbar\":{\"outlinewidth\":0,\"ticks\":\"\"},\"colorscale\":[[0.0,\"#0d0887\"],[0.1111111111111111,\"#46039f\"],[0.2222222222222222,\"#7201a8\"],[0.3333333333333333,\"#9c179e\"],[0.4444444444444444,\"#bd3786\"],[0.5555555555555556,\"#d8576b\"],[0.6666666666666666,\"#ed7953\"],[0.7777777777777778,\"#fb9f3a\"],[0.8888888888888888,\"#fdca26\"],[1.0,\"#f0f921\"]]}],\"contourcarpet\":[{\"type\":\"contourcarpet\",\"colorbar\":{\"outlinewidth\":0,\"ticks\":\"\"}}],\"contour\":[{\"type\":\"contour\",\"colorbar\":{\"outlinewidth\":0,\"ticks\":\"\"},\"colorscale\":[[0.0,\"#0d0887\"],[0.1111111111111111,\"#46039f\"],[0.2222222222222222,\"#7201a8\"],[0.3333333333333333,\"#9c179e\"],[0.4444444444444444,\"#bd3786\"],[0.5555555555555556,\"#d8576b\"],[0.6666666666666666,\"#ed7953\"],[0.7777777777777778,\"#fb9f3a\"],[0.8888888888888888,\"#fdca26\"],[1.0,\"#f0f921\"]]}],\"surface\":[{\"type\":\"surface\",\"colorbar\":{\"outlinewidth\":0,\"ticks\":\"\"},\"colorscale\":[[0.0,\"#0d0887\"],[0.1111111111111111,\"#46039f\"],[0.2222222222222222,\"#7201a8\"],[0.3333333333333333,\"#9c179e\"],[0.4444444444444444,\"#bd3786\"],[0.5555555555555556,\"#d8576b\"],[0.6666666666666666,\"#ed7953\"],[0.7777777777777778,\"#fb9f3a\"],[0.8888888888888888,\"#fdca26\"],[1.0,\"#f0f921\"]]}],\"mesh3d\":[{\"type\":\"mesh3d\",\"colorbar\":{\"outlinewidth\":0,\"ticks\":\"\"}}],\"scatter\":[{\"fillpattern\":{\"fillmode\":\"overlay\",\"size\":10,\"solidity\":0.2},\"type\":\"scatter\"}],\"parcoords\":[{\"type\":\"parcoords\",\"line\":{\"colorbar\":{\"outlinewidth\":0,\"ticks\":\"\"}}}],\"scatterpolargl\":[{\"type\":\"scatterpolargl\",\"marker\":{\"colorbar\":{\"outlinewidth\":0,\"ticks\":\"\"}}}],\"bar\":[{\"error_x\":{\"color\":\"#2a3f5f\"},\"error_y\":{\"color\":\"#2a3f5f\"},\"marker\":{\"line\":{\"color\":\"#E5ECF6\",\"width\":0.5},\"pattern\":{\"fillmode\":\"overlay\",\"size\":10,\"solidity\":0.2}},\"type\":\"bar\"}],\"scattergeo\":[{\"type\":\"scattergeo\",\"marker\":{\"colorbar\":{\"outlinewidth\":0,\"ticks\":\"\"}}}],\"scatterpolar\":[{\"type\":\"scatterpolar\",\"marker\":{\"colorbar\":{\"outlinewidth\":0,\"ticks\":\"\"}}}],\"histogram\":[{\"marker\":{\"pattern\":{\"fillmode\":\"overlay\",\"size\":10,\"solidity\":0.2}},\"type\":\"histogram\"}],\"scattergl\":[{\"type\":\"scattergl\",\"marker\":{\"colorbar\":{\"outlinewidth\":0,\"ticks\":\"\"}}}],\"scatter3d\":[{\"type\":\"scatter3d\",\"line\":{\"colorbar\":{\"outlinewidth\":0,\"ticks\":\"\"}},\"marker\":{\"colorbar\":{\"outlinewidth\":0,\"ticks\":\"\"}}}],\"scattermapbox\":[{\"type\":\"scattermapbox\",\"marker\":{\"colorbar\":{\"outlinewidth\":0,\"ticks\":\"\"}}}],\"scatterternary\":[{\"type\":\"scatterternary\",\"marker\":{\"colorbar\":{\"outlinewidth\":0,\"ticks\":\"\"}}}],\"scattercarpet\":[{\"type\":\"scattercarpet\",\"marker\":{\"colorbar\":{\"outlinewidth\":0,\"ticks\":\"\"}}}],\"carpet\":[{\"aaxis\":{\"endlinecolor\":\"#2a3f5f\",\"gridcolor\":\"white\",\"linecolor\":\"white\",\"minorgridcolor\":\"white\",\"startlinecolor\":\"#2a3f5f\"},\"baxis\":{\"endlinecolor\":\"#2a3f5f\",\"gridcolor\":\"white\",\"linecolor\":\"white\",\"minorgridcolor\":\"white\",\"startlinecolor\":\"#2a3f5f\"},\"type\":\"carpet\"}],\"table\":[{\"cells\":{\"fill\":{\"color\":\"#EBF0F8\"},\"line\":{\"color\":\"white\"}},\"header\":{\"fill\":{\"color\":\"#C8D4E3\"},\"line\":{\"color\":\"white\"}},\"type\":\"table\"}],\"barpolar\":[{\"marker\":{\"line\":{\"color\":\"#E5ECF6\",\"width\":0.5},\"pattern\":{\"fillmode\":\"overlay\",\"size\":10,\"solidity\":0.2}},\"type\":\"barpolar\"}],\"pie\":[{\"automargin\":true,\"type\":\"pie\"}]},\"layout\":{\"autotypenumbers\":\"strict\",\"colorway\":[\"#636efa\",\"#EF553B\",\"#00cc96\",\"#ab63fa\",\"#FFA15A\",\"#19d3f3\",\"#FF6692\",\"#B6E880\",\"#FF97FF\",\"#FECB52\"],\"font\":{\"color\":\"#2a3f5f\"},\"hovermode\":\"closest\",\"hoverlabel\":{\"align\":\"left\"},\"paper_bgcolor\":\"white\",\"plot_bgcolor\":\"#E5ECF6\",\"polar\":{\"bgcolor\":\"#E5ECF6\",\"angularaxis\":{\"gridcolor\":\"white\",\"linecolor\":\"white\",\"ticks\":\"\"},\"radialaxis\":{\"gridcolor\":\"white\",\"linecolor\":\"white\",\"ticks\":\"\"}},\"ternary\":{\"bgcolor\":\"#E5ECF6\",\"aaxis\":{\"gridcolor\":\"white\",\"linecolor\":\"white\",\"ticks\":\"\"},\"baxis\":{\"gridcolor\":\"white\",\"linecolor\":\"white\",\"ticks\":\"\"},\"caxis\":{\"gridcolor\":\"white\",\"linecolor\":\"white\",\"ticks\":\"\"}},\"coloraxis\":{\"colorbar\":{\"outlinewidth\":0,\"ticks\":\"\"}},\"colorscale\":{\"sequential\":[[0.0,\"#0d0887\"],[0.1111111111111111,\"#46039f\"],[0.2222222222222222,\"#7201a8\"],[0.3333333333333333,\"#9c179e\"],[0.4444444444444444,\"#bd3786\"],[0.5555555555555556,\"#d8576b\"],[0.6666666666666666,\"#ed7953\"],[0.7777777777777778,\"#fb9f3a\"],[0.8888888888888888,\"#fdca26\"],[1.0,\"#f0f921\"]],\"sequentialminus\":[[0.0,\"#0d0887\"],[0.1111111111111111,\"#46039f\"],[0.2222222222222222,\"#7201a8\"],[0.3333333333333333,\"#9c179e\"],[0.4444444444444444,\"#bd3786\"],[0.5555555555555556,\"#d8576b\"],[0.6666666666666666,\"#ed7953\"],[0.7777777777777778,\"#fb9f3a\"],[0.8888888888888888,\"#fdca26\"],[1.0,\"#f0f921\"]],\"diverging\":[[0,\"#8e0152\"],[0.1,\"#c51b7d\"],[0.2,\"#de77ae\"],[0.3,\"#f1b6da\"],[0.4,\"#fde0ef\"],[0.5,\"#f7f7f7\"],[0.6,\"#e6f5d0\"],[0.7,\"#b8e186\"],[0.8,\"#7fbc41\"],[0.9,\"#4d9221\"],[1,\"#276419\"]]},\"xaxis\":{\"gridcolor\":\"white\",\"linecolor\":\"white\",\"ticks\":\"\",\"title\":{\"standoff\":15},\"zerolinecolor\":\"white\",\"automargin\":true,\"zerolinewidth\":2},\"yaxis\":{\"gridcolor\":\"white\",\"linecolor\":\"white\",\"ticks\":\"\",\"title\":{\"standoff\":15},\"zerolinecolor\":\"white\",\"automargin\":true,\"zerolinewidth\":2},\"scene\":{\"xaxis\":{\"backgroundcolor\":\"#E5ECF6\",\"gridcolor\":\"white\",\"linecolor\":\"white\",\"showbackground\":true,\"ticks\":\"\",\"zerolinecolor\":\"white\",\"gridwidth\":2},\"yaxis\":{\"backgroundcolor\":\"#E5ECF6\",\"gridcolor\":\"white\",\"linecolor\":\"white\",\"showbackground\":true,\"ticks\":\"\",\"zerolinecolor\":\"white\",\"gridwidth\":2},\"zaxis\":{\"backgroundcolor\":\"#E5ECF6\",\"gridcolor\":\"white\",\"linecolor\":\"white\",\"showbackground\":true,\"ticks\":\"\",\"zerolinecolor\":\"white\",\"gridwidth\":2}},\"shapedefaults\":{\"line\":{\"color\":\"#2a3f5f\"}},\"annotationdefaults\":{\"arrowcolor\":\"#2a3f5f\",\"arrowhead\":0,\"arrowwidth\":1},\"geo\":{\"bgcolor\":\"white\",\"landcolor\":\"#E5ECF6\",\"subunitcolor\":\"white\",\"showland\":true,\"showlakes\":true,\"lakecolor\":\"white\"},\"title\":{\"x\":0.05},\"mapbox\":{\"style\":\"light\"}}},\"title\":{\"text\":\"True/Predicted Label Counts\"}},                        {\"responsive\": true}                    ).then(function(){\n",
       "                            \n",
       "var gd = document.getElementById('e1661378-30d0-482f-9df1-175a592c4948');\n",
       "var x = new MutationObserver(function (mutations, observer) {{\n",
       "        var display = window.getComputedStyle(gd).display;\n",
       "        if (!display || display === 'none') {{\n",
       "            console.log([gd, 'removed!']);\n",
       "            Plotly.purge(gd);\n",
       "            observer.disconnect();\n",
       "        }}\n",
       "}});\n",
       "\n",
       "// Listen for the removal of the full notebook cells\n",
       "var notebookContainer = gd.closest('#notebook-container');\n",
       "if (notebookContainer) {{\n",
       "    x.observe(notebookContainer, {childList: true});\n",
       "}}\n",
       "\n",
       "// Listen for the clearing of the current output cell\n",
       "var outputEl = gd.closest('.output');\n",
       "if (outputEl) {{\n",
       "    x.observe(outputEl, {childList: true});\n",
       "}}\n",
       "\n",
       "                        })                };                });            </script>        </div>"
      ]
     },
     "metadata": {},
     "output_type": "display_data"
    }
   ],
   "source": [
    "getTraitCounts(df)"
   ]
  },
  {
   "cell_type": "markdown",
   "metadata": {},
   "source": [
    "**<h1>Results on FewShotNoTuning</h1>**"
   ]
  },
  {
   "cell_type": "code",
   "execution_count": 29,
   "metadata": {},
   "outputs": [
    {
     "name": "stdout",
     "output_type": "stream",
     "text": [
      "Total test size: 85\n",
      "Average Accuracy on Test Data: 51.27 %\n",
      "Average Precision on Test Data: 63.04 %\n",
      "Average Recall on Test Data: 68.82 %\n",
      "Average F1-Score on Test Data: 63.56 %\n"
     ]
    }
   ],
   "source": [
    "print(f\"Total test size: {len(df)}\")\n",
    "calculate_metrics(df)"
   ]
  },
  {
   "cell_type": "markdown",
   "metadata": {},
   "source": [
    "<h3>Specifically on Diablo Canyon</h3>"
   ]
  },
  {
   "cell_type": "code",
   "execution_count": 30,
   "metadata": {},
   "outputs": [
    {
     "name": "stdout",
     "output_type": "stream",
     "text": [
      "Total test size (ONLY DIABLO CANYON): 34\n",
      "Average Accuracy on Test Data: 45.49 %\n",
      "Average Precision on Test Data: 59.8 %\n",
      "Average Recall on Test Data: 62.25 %\n",
      "Average F1-Score on Test Data: 58.17 %\n"
     ]
    }
   ],
   "source": [
    "diablo_canyon_df = df[df['Power Plant'] == 'Diablo Canyon']\n",
    "diablo_canyon_df.reset_index(drop=True, inplace=True)\n",
    "print(f\"Total test size (ONLY DIABLO CANYON): {len(diablo_canyon_df)}\")\n",
    "calculate_metrics(diablo_canyon_df)"
   ]
  },
  {
   "cell_type": "code",
   "execution_count": 31,
   "metadata": {},
   "outputs": [
    {
     "name": "stdout",
     "output_type": "stream",
     "text": [
      "Total test size (ONLY SOUTH TEXAS): 34\n",
      "Average Accuracy on Test Data: 57.84 %\n",
      "Average Precision on Test Data: 68.38 %\n",
      "Average Recall on Test Data: 75.49 %\n",
      "Average F1-Score on Test Data: 69.75 %\n"
     ]
    }
   ],
   "source": [
    "south_texas_df = df[df['Power Plant'] == 'South Texas']\n",
    "south_texas_df.reset_index(drop=True, inplace=True)\n",
    "print(f\"Total test size (ONLY SOUTH TEXAS): {len(south_texas_df)}\")\n",
    "calculate_metrics(south_texas_df)"
   ]
  },
  {
   "cell_type": "code",
   "execution_count": 32,
   "metadata": {},
   "outputs": [
    {
     "name": "stdout",
     "output_type": "stream",
     "text": [
      "Total test size (ONLY DAVIS-BESSE): 17\n",
      "Average Accuracy on Test Data: 49.71 %\n",
      "Average Precision on Test Data: 58.82 %\n",
      "Average Recall on Test Data: 68.63 %\n",
      "Average F1-Score on Test Data: 61.96 %\n"
     ]
    }
   ],
   "source": [
    "davis_df = df[df['Power Plant'] == 'Davis-Besse']\n",
    "davis_df.reset_index(drop=True, inplace=True)\n",
    "print(f\"Total test size (ONLY DAVIS-BESSE): {len(davis_df)}\")\n",
    "calculate_metrics(davis_df)"
   ]
  },
  {
   "cell_type": "markdown",
   "metadata": {},
   "source": [
    "### Evaluating on additional models"
   ]
  },
  {
   "cell_type": "code",
   "execution_count": 16,
   "metadata": {},
   "outputs": [
    {
     "name": "stdout",
     "output_type": "stream",
     "text": [
      "Total test size: 100\n",
      "Average Accuracy on Test Data: 32.99 %\n",
      "Average Precision on Test Data: 44.25 %\n",
      "Average Recall on Test Data: 51.25 %\n",
      "Average F1-Score on Test Data: 45.45 %\n"
     ]
    }
   ],
   "source": [
    "df = pd.read_csv(\"ZeroShot_withDescriptions.csv\")\n",
    "print(f\"Total test size: {len(df)}\")\n",
    "calculate_metrics(df)"
   ]
  },
  {
   "cell_type": "code",
   "execution_count": 17,
   "metadata": {},
   "outputs": [
    {
     "name": "stdout",
     "output_type": "stream",
     "text": [
      "Total test size: 100\n",
      "Average Accuracy on Test Data: 42.4 %\n",
      "Average Precision on Test Data: 56.33 %\n",
      "Average Recall on Test Data: 52.0 %\n",
      "Average F1-Score on Test Data: 52.27 %\n"
     ]
    }
   ],
   "source": [
    "df = pd.read_csv(\"FewShot_withDescriptions.csv\")\n",
    "print(f\"Total test size: {len(df)}\")\n",
    "calculate_metrics(df)"
   ]
  },
  {
   "cell_type": "code",
   "execution_count": null,
   "metadata": {},
   "outputs": [],
   "source": []
  }
 ],
 "metadata": {
  "kernelspec": {
   "display_name": "Python 3 (ipykernel)",
   "language": "python",
   "name": "python3"
  },
  "language_info": {
   "codemirror_mode": {
    "name": "ipython",
    "version": 3
   },
   "file_extension": ".py",
   "mimetype": "text/x-python",
   "name": "python",
   "nbconvert_exporter": "python",
   "pygments_lexer": "ipython3",
   "version": "3.9.7"
  }
 },
 "nbformat": 4,
 "nbformat_minor": 2
}
